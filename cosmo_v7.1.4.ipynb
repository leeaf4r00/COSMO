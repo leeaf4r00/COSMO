{
 "cells": [
  {
   "cell_type": "code",
   "execution_count": 1,
   "metadata": {},
   "outputs": [
    {
     "ename": "KeyError",
     "evalue": "0",
     "output_type": "error",
     "traceback": [
      "\u001b[1;31m---------------------------------------------------------------------------\u001b[0m",
      "\u001b[1;31mKeyError\u001b[0m                                  Traceback (most recent call last)",
      "Cell \u001b[1;32mIn[1], line 56\u001b[0m\n\u001b[0;32m     54\u001b[0m     codigo \u001b[39m=\u001b[39m data\u001b[39m.\u001b[39mget(\u001b[39m\"\u001b[39m\u001b[39mgtin\u001b[39m\u001b[39m\"\u001b[39m)\n\u001b[0;32m     55\u001b[0m \u001b[39melse\u001b[39;00m:\n\u001b[1;32m---> 56\u001b[0m     produto \u001b[39m=\u001b[39m data[\u001b[39m0\u001b[39;49m]\n\u001b[0;32m     57\u001b[0m     descricao \u001b[39m=\u001b[39m produto\u001b[39m.\u001b[39mget(\u001b[39m\"\u001b[39m\u001b[39mdescription\u001b[39m\u001b[39m\"\u001b[39m)\n\u001b[0;32m     58\u001b[0m     ncm \u001b[39m=\u001b[39m produto\u001b[39m.\u001b[39mget(\u001b[39m\"\u001b[39m\u001b[39mncm\u001b[39m\u001b[39m\"\u001b[39m)\n",
      "\u001b[1;31mKeyError\u001b[0m: 0"
     ]
    },
    {
     "ename": "",
     "evalue": "",
     "output_type": "error",
     "traceback": [
      "\u001b[1;31mO Kernel falhou ao executar o código na célula atual ou em uma célula anterior. Examine o código nas células para identificar uma possível causa da falha. Clique <a href=\"https://aka.ms/vscodeJupyterKernelCrash\">aqui</a> para obter mais informações. Consulte o <a href='command:jupyter.viewOutput'>log</a> do Jupyter para obter mais detalhes."
     ]
    }
   ],
   "source": [
    "import requests\n",
    "import PySimpleGUI as sg\n",
    "import webbrowser\n",
    "\n",
    "# Define a janela da GUI\n",
    "sg.theme('LightGreen')\n",
    "layout = [\n",
    "    [sg.Text(\"Escolha o tipo de pesquisa:\"), sg.Radio('Código de barras', 'RADIO1',\n",
    "                                                      default=True, key=\"-EAN-\"), sg.Radio('Descrição', 'RADIO1', key=\"-DESC-\")],\n",
    "    [sg.Text(\"Insira o código EAN ou descrição do produto:\"),\n",
    "     sg.Input(key=\"-SEARCH-\", enable_events=True)],\n",
    "    [sg.Button(\"Buscar\"), sg.Button(\"Sair\")],\n",
    "    [sg.Text(size=(50, 3), key=\"-OUTPUT-\")],\n",
    "    [sg.Text(\"Desenvolvido por Rafael Fernandes, Rurópolis-Pará\"), sg.Text(\"  \"),\n",
    "     sg.Button('Instagram', font=('Helvetica', 10, 'underline'), button_color=('white', 'purple'), key='-INSTAGRAM-')],\n",
    "    [sg.Listbox([], size=(50, 6), key=\"-HISTORY-\")],\n",
    "]\n",
    "\n",
    "window = sg.Window(\"Consulta de Produto\", layout, size=(600, 400))\n",
    "\n",
    "# Lista para armazenar histórico de pesquisas\n",
    "search_history = []\n",
    "\n",
    "# Loop para ler os eventos da janela\n",
    "while True:\n",
    "    event, values = window.read()\n",
    "    if event == sg.WIN_CLOSED or event == \"Sair\":\n",
    "        break\n",
    "\n",
    "    if event == \"-SEARCH-\":\n",
    "        # Se o usuário pressionar Enter, inicia a busca automaticamente\n",
    "        if len(values[\"-SEARCH-\"]) == 13:  # EAN tem 13 dígitos\n",
    "            window[\"Buscar\"].click()\n",
    "\n",
    "    if event == \"Buscar\":\n",
    "        if values[\"-EAN-\"]:\n",
    "            search_type = \"gtins\"\n",
    "        else:\n",
    "            search_type = \"products\"\n",
    "\n",
    "        search_term = values[\"-SEARCH-\"]\n",
    "        url = f\"https://api.cosmos.bluesoft.com.br/{search_type}/{search_term}\"\n",
    "        headers = {\"X-Cosmos-Token\": \"NATS-jewDl9Y3gCluv5Sgw\"}\n",
    "\n",
    "        response = requests.get(url, headers=headers)\n",
    "\n",
    "        if response.status_code == 404:\n",
    "            window[\"-OUTPUT-\"].update(\"Produto não encontrado.\")\n",
    "        elif response.status_code == 200:\n",
    "            data = response.json()\n",
    "            if search_type == \"gtins\":\n",
    "                descricao = data.get(\"description\")\n",
    "                ncm = data.get(\"ncm\")\n",
    "                codigo = data.get(\"gtin\")\n",
    "            else:\n",
    "                produto = data[0]\n",
    "                descricao = produto.get(\"description\")\n",
    "                ncm = produto.get(\"ncm\")\n",
    "                codigo = produto.get(\"gtin\")\n",
    "            if not descricao or not ncm:\n",
    "                window[\"-OUTPUT-\"].update(\n",
    "                    \"Informações do produto não disponíveis.\")\n",
    "            else:\n",
    "                output_text = f\"Código EAN: {codigo}\\nDescrição: {descricao}\\nNCM: {ncm}\"\n",
    "                window[\"-OUTPUT-\"].update(output_text)\n",
    "                search_history.append(output_text)\n",
    "                window[\"-HISTORY-\"].update(search_history)\n",
    "        else:\n",
    "            window[\"-OUTPUT-\"].update(\n",
    "                f\"Erro na consulta: {response.status_code}\")\n",
    "\n",
    "    if event == '-INSTAGRAM-':\n",
    "        webbrowser.open_new_tab(\n",
    "            'https://www.instagram.com/RAFAELMOREIRAFERNANDES/')\n",
    "\n",
    "window.close()"
   ]
  }
 ],
 "metadata": {
  "kernelspec": {
   "display_name": "Python 3",
   "language": "python",
   "name": "python3"
  },
  "language_info": {
   "codemirror_mode": {
    "name": "ipython",
    "version": 3
   },
   "file_extension": ".py",
   "mimetype": "text/x-python",
   "name": "python",
   "nbconvert_exporter": "python",
   "pygments_lexer": "ipython3",
   "version": "3.11.2"
  },
  "orig_nbformat": 4
 },
 "nbformat": 4,
 "nbformat_minor": 2
}
